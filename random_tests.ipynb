{
 "cells": [
  {
   "cell_type": "code",
   "execution_count": 1,
   "metadata": {},
   "outputs": [],
   "source": [
    "import os\n",
    "import random\n",
    "from copy import deepcopy\n",
    "\n",
    "import matplotlib.pyplot as plt\n",
    "import networkx as nx\n",
    "import numpy as np\n",
    "import torch\n",
    "import torch_geometric\n",
    "\n",
    "import network\n",
    "from convert import parse_dump\n",
    "from lammps_scripts import LJSimulationStandalone\n",
    "from simulation import (\n",
    "    CompressionSimulation,\n",
    "    LJSimulation,\n",
    "    TemperatureRange,\n",
    "    gen_sim_data,\n",
    "    run_lammps_calc,\n",
    ")\n",
    "from utils import (\n",
    "    add_edges_LJ,\n",
    "    draw_graph,\n",
    "    draw_network,\n",
    "    inject_noise,\n",
    "    randomize_LJ,\n",
    "    recalc_bond,\n",
    "    recalc_bonds,\n",
    ")\n",
    "\n"
   ]
  },
  {
   "cell_type": "code",
   "execution_count": 2,
   "metadata": {},
   "outputs": [],
   "source": [
    "def calc_p_ratio_box(simulation: list, index: int = -1) -> float:\n",
    "    \"\"\"Calculates Poisson ratio from the box data\n",
    "\n",
    "    Parameters\n",
    "    ----------\n",
    "    simulation : list[Data]\n",
    "        list of torch_geometric `Data` objects\n",
    "    Returns\n",
    "    -------\n",
    "    float\n",
    "        Poisson ratio\n",
    "    \"\"\"\n",
    "    return -(simulation[index].box.y - simulation[0].box.y) / (\n",
    "        simulation[index].box.x - simulation[0].box.x\n",
    "    )"
   ]
  },
  {
   "cell_type": "markdown",
   "metadata": {},
   "source": [
    "## LAMMPS strain speed"
   ]
  },
  {
   "cell_type": "code",
   "execution_count": null,
   "metadata": {},
   "outputs": [],
   "source": [
    "main_dir = \"/home/sergey/work/simulator_data_gen/lammps_strain_speed_dePablo\"\n",
    "os.makedirs(main_dir)\n",
    "# step_size = 0.01\n",
    "# lj_sim = LJSimulation(\n",
    "#     n_atoms=100,\n",
    "#     n_atom_types=4,\n",
    "#     atom_sizes=[0.8, 1.0, 1.2, 1.4],\n",
    "#     box_dim=[-40, 40, -40, 40, -1, 1],\n",
    "#     temperature_range=TemperatureRange(0.0005, 0.0001, 10.0),\n",
    "#     n_steps=30_000,\n",
    "# )\n",
    "# lj_sim.write_to_file(main_dir)\n",
    "# run_lammps_calc(main_dir, input_file='lammps.in')\n",
    "\n",
    "net = network.Network.from_data_file(input_file=\"dePablo_network.lmp\", include_default_masses=1e6)\n",
    "for bond in net.bonds:\n",
    "    bond.bond_coefficient = 1/bond.length\n",
    "net.set_angle_coeff(0.00)\n",
    "net.write_to_file(os.path.join(main_dir, \"network.lmp\"))\n",
    "\n",
    "\n",
    "sims = {}\n",
    "for rate in (1e-6, 1e-5, 1e-4, 1e-3):\n",
    "    subdir = os.path.join(main_dir, f'{float(rate)}')\n",
    "    os.makedirs(subdir)\n",
    "    net.write_to_file(os.path.join(subdir, \"network.lmp\"))\n",
    "\n",
    "    comp_sim = CompressionSimulation(\n",
    "        strain_direction='x',\n",
    "        box_size=net.box.x,\n",
    "        network_filename='network.lmp',\n",
    "        dt=0.01,\n",
    "        strain=0.01,\n",
    "        strain_rate=rate,\n",
    "        desired_step_size=0.001,\n",
    "        random_seed=True,\n",
    "        temperature_range=TemperatureRange(1e-7, 1e-7, 10.0)\n",
    "    )\n",
    "    comp_sim.write_to_file(subdir)\n",
    "    run_lammps_calc(subdir, \"in.deformation\")\n",
    "\n",
    "    sims[rate] = parse_dump(\n",
    "        os.path.join(subdir, \"dump.lammpstrj\"),\n",
    "        net,\n",
    "        node_features='coord'\n",
    "    )"
   ]
  },
  {
   "cell_type": "code",
   "execution_count": null,
   "metadata": {},
   "outputs": [],
   "source": [
    "sims.keys()"
   ]
  },
  {
   "cell_type": "code",
   "execution_count": null,
   "metadata": {},
   "outputs": [],
   "source": [
    "for size, sim in sims.items():\n",
    "    if sim:\n",
    "        try:\n",
    "            plt.scatter(size, calc_p_ratio_box(sim), label=f'Strain rate: {size:.1e}')\n",
    "        except ZeroDivisionError:\n",
    "            print(f\"Size {size} too much\")\n",
    "            continue\n",
    "\n",
    "plt.xticks(list(sims.keys()))\n",
    "plt.axvline(1e-5, linestyle='--', color='red', linewidth=1.0, label='default strain rate')\n",
    "plt.xscale('log')\n",
    "plt.xlabel(\"Strain rate\")\n",
    "plt.ylabel(\"$\\\\nu$\")\n",
    "plt.legend()\n",
    "plt.show()"
   ]
  },
  {
   "cell_type": "markdown",
   "metadata": {},
   "source": [
    "## LAMMPS High T Random seed"
   ]
  },
  {
   "cell_type": "code",
   "execution_count": null,
   "metadata": {},
   "outputs": [],
   "source": [
    "main_dir = \"/home/sergey/work/simulator_data_gen/lammps_random_seed\"\n",
    "step_size = 0.01\n",
    "lj_sim = LJSimulation(\n",
    "    n_atoms=100,\n",
    "    n_atom_types=4,\n",
    "    atom_sizes=[0.8, 1.0, 1.2, 1.4],\n",
    "    box_dim=[-40, 40, -40, 40, -1, 1],\n",
    "    temperature_range=TemperatureRange(0.0005, 0.0001, 10.0),\n",
    "    n_steps=30_000,\n",
    ")\n",
    "lj_sim.write_to_file(main_dir)\n",
    "run_lammps_calc(main_dir, input_file='lammps.in')\n",
    "\n",
    "net = network.Network.from_atoms(input_file=os.path.join(main_dir, \"coord.dat\"), include_default_masses=1e6)\n",
    "for bond in net.bonds:\n",
    "    bond.bond_coefficient = 1/bond.length\n",
    "net.set_angle_coeff(0.00)\n",
    "net.write_to_file(os.path.join(main_dir, \"network.lmp\"))\n",
    "\n",
    "\n",
    "for i in range(5):\n",
    "    subdir = os.path.join(main_dir, f'{i+1}')\n",
    "    os.makedirs(subdir)\n",
    "    net.write_to_file(os.path.join(subdir, \"network.lmp\"))\n",
    "\n",
    "    comp_sim = CompressionSimulation(\n",
    "        strain_direction='x',\n",
    "        box_size=net.box.x,\n",
    "        network_filename='network.lmp',\n",
    "        dt=step_size,\n",
    "        strain=0.03,\n",
    "        strain_rate=1e-5,\n",
    "        random_seed=True,\n",
    "        temperature_range=TemperatureRange(1e-5, 1e-5, 10.0)\n",
    "    )\n",
    "    comp_sim.write_to_file(subdir)\n",
    "    run_lammps_calc(subdir, \"in.deformation\")"
   ]
  },
  {
   "cell_type": "code",
   "execution_count": null,
   "metadata": {},
   "outputs": [],
   "source": [
    "from convert import parse_dump\n",
    "\n",
    "random_sims = []\n",
    "for i in range(5):\n",
    "    subdir = os.path.join(main_dir, f'{i+1}')\n",
    "    random_sims.append(parse_dump(\n",
    "        os.path.join(subdir, \"dump.lammpstrj\"),\n",
    "        net,\n",
    "        node_features='coord',\n",
    "        skip=1\n",
    "        )\n",
    "    )"
   ]
  },
  {
   "cell_type": "code",
   "execution_count": null,
   "metadata": {},
   "outputs": [],
   "source": [
    "torch.save(random_sims, \"/home/sergey/work/gnn/NN_Simulator/data/random_sims.pt\")"
   ]
  },
  {
   "cell_type": "markdown",
   "metadata": {},
   "source": [
    "## LAMMPS check T vs P"
   ]
  },
  {
   "cell_type": "code",
   "execution_count": null,
   "metadata": {},
   "outputs": [],
   "source": [
    "import pickle\n",
    "\n",
    "main_dir = \"/home/sergey/work/simulator_data_gen/lammps_t_over_p\"\n",
    "data_dir = \"/home/sergey/work/simulator_data_gen/one_over_l\"\n",
    "steps_to_check = (1, 15, 30, 45)\n",
    "ts_to_check = (1e-7, 1e-3)\n",
    "paths = []\n",
    "for size_dir in os.listdir(data_dir):\n",
    "    if size_dir != \"data_generation.log\":\n",
    "        for network_dir in os.listdir(os.path.join(data_dir, size_dir)):\n",
    "            for step in steps_to_check:\n",
    "                path = os.path.join(data_dir, size_dir, network_dir, f\"network{step}.lmp\")\n",
    "                paths.append(path)\n",
    "\n",
    "for i in range(50):\n",
    "    path = random.sample(paths, 1)[0]\n",
    "    print(f\"Step {i+1}: {path}\")\n",
    "    net = network.Network.from_data_file(\n",
    "        input_file=path,\n",
    "        include_default_masses=1e6,\n",
    "        include_angles=True,\n",
    "        include_dihedrals=False\n",
    "    )\n",
    "    for bond in net.bonds:\n",
    "        bond.bond_coefficient = 1/bond.length\n",
    "    net.set_angle_coeff(0.00)\n",
    "\n",
    "    for t in ts_to_check:\n",
    "        comp_path = os.path.join(main_dir, str(i+1), str(t))\n",
    "        os.makedirs(comp_path)\n",
    "        net.write_to_file(os.path.join(comp_path, \"network.lmp\"))\n",
    "        comp_sim = CompressionSimulation(\n",
    "            strain_direction='x',\n",
    "            box_size=net.box.x,\n",
    "            network_filename='network.lmp',\n",
    "            dt=0.01,\n",
    "            strain=0.01,\n",
    "            strain_rate=1e-5,\n",
    "            random_seed=True,\n",
    "            temperature_range=TemperatureRange(t, t, 10.0)\n",
    "        )\n",
    "        comp_sim.write_to_file(comp_path)\n",
    "        run_lammps_calc(comp_path, \"in.deformation\")\n"
   ]
  },
  {
   "cell_type": "code",
   "execution_count": null,
   "metadata": {},
   "outputs": [],
   "source": [
    "data_lowT = []\n",
    "data_highT = []\n",
    "\n",
    "for i in range(50):\n",
    "    sim_lowT = parse_dump(\n",
    "        f\"/home/sergey/work/simulator_data_gen/lammps_t_over_p/{i+1}/{1e-3}/dump.lammpstrj\",\n",
    "        network.Network.from_data_file(f\"/home/sergey/work/simulator_data_gen/lammps_t_over_p/{i+1}/{1e-3}/network.lmp\", include_default_masses=1e6),\n",
    "        node_features='coord'\n",
    "    )\n",
    "    data_lowT.append(sim_lowT)\n",
    "    sim_highT = parse_dump(\n",
    "        f\"/home/sergey/work/simulator_data_gen/lammps_t_over_p/{i+1}/{1e-7}/dump.lammpstrj\",\n",
    "        network.Network.from_data_file(f\"/home/sergey/work/simulator_data_gen/lammps_t_over_p/{i+1}/{1e-7}/network.lmp\", include_default_masses=1e6),\n",
    "        node_features='coord'\n",
    "    )\n",
    "    data_highT.append(sim_highT)\n"
   ]
  },
  {
   "cell_type": "code",
   "execution_count": null,
   "metadata": {},
   "outputs": [],
   "source": [
    "ps_high = [calc_p_ratio_box(sim) for sim in data_highT]\n",
    "ps_low = [calc_p_ratio_box(sim) for sim in data_lowT]"
   ]
  },
  {
   "cell_type": "code",
   "execution_count": null,
   "metadata": {},
   "outputs": [],
   "source": [
    "plt.scatter(ps_high, ps_low)\n",
    "plt.xlabel(\"$T=10^{-3}$\")\n",
    "plt.ylabel(\"$T=10^{-7}$\")\n",
    "plt.title(\"P ratio vs Temperature\")\n",
    "plt.show()"
   ]
  },
  {
   "cell_type": "markdown",
   "metadata": {},
   "source": [
    "## LAMMPS big step"
   ]
  },
  {
   "cell_type": "code",
   "execution_count": null,
   "metadata": {},
   "outputs": [],
   "source": [
    "main_dir = \"/home/sergey/work/simulator_data_gen/lammps_big_step\"\n",
    "os.makedirs(main_dir)\n",
    "# step_size = 0.5\n",
    "# lj_sim = LJSimulation(\n",
    "#     n_atoms=150,\n",
    "#     n_atom_types=4,\n",
    "#     atom_sizes=[0.8, 1.0, 1.2, 1.4],\n",
    "#     box_dim=[-40, 40, -40, 40, -1, 1],\n",
    "#     temperature_range=TemperatureRange(0.0005, 0.0001, 10.0),\n",
    "#     n_steps=30_000,\n",
    "# )\n",
    "# lj_sim.write_to_file(main_dir)\n",
    "# run_lammps_calc(main_dir, input_file='lammps.in')\n",
    "\n",
    "net = network.Network.from_data_file(input_file=\"/home/sergey/work/simulator_data_gen/dePablo_network.lmp\", include_default_masses=1e6)\n",
    "# net = network.Network.from_atoms(input_file=os.path.join(main_dir, \"coord.dat\"), include_default_masses=1e6)\n",
    "net.set_angle_coeff(0.00)\n",
    "net.write_to_file(os.path.join(main_dir, \"network.lmp\"))\n",
    "\n",
    "sims = {}\n",
    "for step_size in [0.005, 0.01, 0.02, 0.04, 0.08, 0.16]:\n",
    "    subdir = os.path.join(main_dir, f'{float(step_size)}')\n",
    "    os.makedirs(subdir, exist_ok=True)\n",
    "    net.write_to_file(os.path.join(subdir, 'network.lmp'))\n",
    "    comp_sim = CompressionSimulation(\n",
    "        strain_direction='x',\n",
    "        box_size=net.box.x,\n",
    "        network_filename='network.lmp',\n",
    "        dt=step_size,\n",
    "        strain=0.03,\n",
    "        strain_rate=1e-5,\n",
    "        temperature_range=TemperatureRange(1e-7, 1e-7, 100)\n",
    "    )\n",
    "    comp_sim.write_to_file(subdir)\n",
    "    run_lammps_calc(subdir, \"in.deformation\")\n",
    "    sims[step_size] = parse_dump(\n",
    "            os.path.join(subdir, \"dump.lammpstrj\"),\n",
    "            net,\n",
    "            node_features='coord'\n",
    "        )"
   ]
  },
  {
   "cell_type": "code",
   "execution_count": null,
   "metadata": {},
   "outputs": [],
   "source": [
    "def calc_p_ratio_box(simulation: list, index: int = -1) -> float:\n",
    "    \"\"\"Calculates Poisson ratio from the box data\n",
    "\n",
    "    Parameters\n",
    "    ----------\n",
    "    simulation : list[Data]\n",
    "        list of torch_geometric `Data` objects\n",
    "    Returns\n",
    "    -------\n",
    "    float\n",
    "        Poisson ratio\n",
    "    \"\"\"\n",
    "    return -(simulation[index].box.y - simulation[0].box.y) / (\n",
    "        simulation[index].box.x - simulation[0].box.x\n",
    "    )"
   ]
  },
  {
   "cell_type": "code",
   "execution_count": null,
   "metadata": {},
   "outputs": [],
   "source": [
    "for size, sim in sims.items():\n",
    "    if sim and size < 0.16:\n",
    "        plt.scatter(size, calc_p_ratio_box(sim, 50), label=f'Step size: {size}')\n",
    "\n",
    "plt.legend()\n",
    "plt.xlabel(\"Step size\")\n",
    "plt.ylabel(\"$\\\\nu$\")\n",
    "plt.show()"
   ]
  },
  {
   "cell_type": "code",
   "execution_count": null,
   "metadata": {},
   "outputs": [],
   "source": [
    "\n",
    "\n",
    "sim = parse_dump(os.path.join(main_dir, \"dump.lammpstrj\"), net, node_features='coord')\n",
    "print(len(sim))"
   ]
  },
  {
   "cell_type": "code",
   "execution_count": null,
   "metadata": {},
   "outputs": [],
   "source": [
    "draw_network(net, periodic_edges=False)"
   ]
  },
  {
   "cell_type": "markdown",
   "metadata": {},
   "source": [
    "## Rest"
   ]
  },
  {
   "cell_type": "code",
   "execution_count": null,
   "metadata": {},
   "outputs": [],
   "source": [
    "raw_data_path = \"/home/sergey/work/simulator_data_gen/data/binary/data_dePablo_OOL_0.05strain\"\n",
    "count = 0\n",
    "for size_dir in os.listdir(raw_data_path):\n",
    "    if size_dir != \"data_generation.log\":\n",
    "        for net_dir in os.listdir(os.path.join(raw_data_path, size_dir)):\n",
    "            for comp_dir in os.listdir(os.path.join(raw_data_path, size_dir, net_dir)):\n",
    "                if comp_dir.startswith(\"comp_\"): #and 'one_over_l' in comp_dir:\n",
    "                    count += 1\n",
    "\n",
    "print(count)"
   ]
  },
  {
   "cell_type": "code",
   "execution_count": 12,
   "metadata": {},
   "outputs": [
    {
     "data": {
      "text/plain": [
       "425"
      ]
     },
     "execution_count": 12,
     "metadata": {},
     "output_type": "execute_result"
    }
   ],
   "source": [
    "name_suffix = \"SR=1e-06\"\n",
    "path = f\"/home/sergey/work/simulator_data_gen/data/binary/data_dePablo_OOL_{name_suffix}\"\n",
    "chunks = []\n",
    "for chunk_name in os.listdir(path):\n",
    "    chunk = torch.load(os.path.join(path, chunk_name), weights_only=False)\n",
    "    chunks.append(chunk)\n",
    "\n",
    "len(chunks)"
   ]
  },
  {
   "cell_type": "code",
   "execution_count": 13,
   "metadata": {},
   "outputs": [],
   "source": [
    "torch.save(chunks, f\"/home/sergey/work/gnn/NN_Simulator/data/dePablo_networks_OOL_{name_suffix}.pt\")"
   ]
  },
  {
   "cell_type": "code",
   "execution_count": null,
   "metadata": {},
   "outputs": [],
   "source": [
    "os.chdir(\"/home/sergey/work/simulator_data_gen\")\n",
    "data_1  = torch.load(\"validation_Ttimes1.pt\", weights_only=False)\n",
    "data_10  = torch.load(\"validation_Ttimes10.pt\", weights_only=False)\n",
    "data_100  = torch.load(\"validation_Ttimes100.pt\", weights_only=False)\n",
    "data_1000  = torch.load(\"validation_Ttimes1000.pt\", weights_only=False)\n",
    "data_10000  = torch.load(\"validation_Ttimes10000.pt\", weights_only=False)"
   ]
  },
  {
   "cell_type": "code",
   "execution_count": null,
   "metadata": {},
   "outputs": [],
   "source": [
    "from utils import visualize_graphs\n",
    "\n",
    "k = 5\n",
    "visualize_graphs(data_1[k][0], data_10[k][0], periodic_edges=False)"
   ]
  },
  {
   "cell_type": "code",
   "execution_count": null,
   "metadata": {},
   "outputs": [],
   "source": []
  },
  {
   "cell_type": "code",
   "execution_count": null,
   "metadata": {},
   "outputs": [],
   "source": [
    "calc_dir = \"/home/sergey/work/simulator_data_gen/scaling\" # work\n",
    "\n",
    "for i in range(5):\n",
    "    loc_dir = os.path.join(calc_dir, str(i))\n",
    "    os.makedirs(loc_dir)\n",
    "    lj_sim = LJSimulation(\n",
    "        n_atoms=120,\n",
    "        atom_sizes=[16, 14, 12, 10],\n",
    "        n_atom_types=4,\n",
    "        box_dim=[-300, 300, -300, 300, -1, 1],\n",
    "        temperature_range=TemperatureRange(0.0005, 0.0001, 10.0),\n",
    "        n_steps=30_000,\n",
    "    )\n",
    "    lj_sim.write_to_file(loc_dir)\n",
    "    run_lammps_calc(loc_dir, input_file='lammps.in')\n"
   ]
  },
  {
   "cell_type": "code",
   "execution_count": null,
   "metadata": {},
   "outputs": [],
   "source": [
    "skip = 1\n",
    "data = []\n",
    "for i in sizes:\n",
    "    sim = []\n",
    "    dump_file = os.path.join(calc_dir, str(i), \"dump.lammpstrj\")\n",
    "\n",
    "    with open(dump_file, \"r\", encoding=\"utf8\") as f:\n",
    "            content = f.readlines()\n",
    "\n",
    "    timesteps: list[int] = []\n",
    "    for index, line in enumerate(content):\n",
    "        if \"ITEM: TIMESTEP\" in line:\n",
    "            timesteps.append(index)\n",
    "\n",
    "    for i in range(0, len(timesteps) - 1, skip):\n",
    "        timestep_data = content[timesteps[i] : timesteps[i + 1]]\n",
    "        atoms = [list(map(lambda x: float(x), line.split()[1:3])) for line in timestep_data[9:]]\n",
    "        graph = torch_geometric.data.Data(x=torch.tensor(atoms))\n",
    "        graph.box = network.Box(-30, 30, -30, 30, -0.1, 0.1)\n",
    "        graph = add_edges_LJ(graph, r=2.0)\n",
    "        graph.edge_attr = torch.ones_like(graph.edge_attr)\n",
    "        sim.append(graph)\n",
    "    data.append(sim)\n",
    "    # datasets[edge_radius] = data"
   ]
  },
  {
   "cell_type": "code",
   "execution_count": null,
   "metadata": {},
   "outputs": [],
   "source": [
    "torch.save(data, \"/home/sergey/work/simulator_data_gen/diff_size.pt\")"
   ]
  },
  {
   "cell_type": "code",
   "execution_count": null,
   "metadata": {},
   "outputs": [],
   "source": [
    "for key, value in datasets.items():\n",
    "    torch.save(value, f\"/home/sergey/work/simulator_data_gen/LJ_data_r{key}.pt\")"
   ]
  },
  {
   "cell_type": "code",
   "execution_count": null,
   "metadata": {},
   "outputs": [],
   "source": [
    "from convert import parse_dump\n",
    "\n",
    "ord_data = []\n",
    "for i in sizes:\n",
    "    loc_dir = os.path.join(calc_dir, str(i))\n",
    "    ord_network = network.Network.from_data_file(\n",
    "        os.path.join(loc_dir, f\"network{i}.lmp\"),\n",
    "        include_default_masses=1e6,\n",
    "    )\n",
    "    sim = parse_dump(\n",
    "        os.path.join(loc_dir, \"dump.lammpstrj\"),\n",
    "        ord_network,\n",
    "        node_features=\"coord\"\n",
    "    )\n",
    "\n",
    "    ord_data.append(sim)\n",
    "\n",
    "ord_data"
   ]
  },
  {
   "cell_type": "code",
   "execution_count": null,
   "metadata": {},
   "outputs": [],
   "source": [
    "torch.save(data, \"/home/sergey/work/gnn/NN_Simulator/LJ_data.pt\")"
   ]
  },
  {
   "cell_type": "code",
   "execution_count": null,
   "metadata": {},
   "outputs": [],
   "source": [
    "def draw_network(\n",
    "    net: network.Network,\n",
    "    edges: bool = True,\n",
    "    periodic_edges: bool = True,\n",
    "    box: bool = False,\n",
    "    node_color: str = \"skyblue\",\n",
    "    standalone: bool = True,\n",
    "    node_size: float = 20,\n",
    "    figure_scale: float = 3,\n",
    "):\n",
    "    if standalone:\n",
    "        plt.figure(figsize=(8, 8))\n",
    "    G = nx.Graph()\n",
    "    # Add nodes\n",
    "    for atom in net.atoms:\n",
    "        G.add_node(atom.atom_id)\n",
    "\n",
    "    pos = {atom.atom_id: (float(atom.y), float(atom.x)) for atom in net.atoms}\n",
    "\n",
    "    # Add edges\n",
    "    if edges:\n",
    "        edge_index = [(bond.atom1.atom_id, bond.atom2.atom_id) for bond in net.bonds]\n",
    "        naive_edge_lengths = [bond.atom1.dist(bond.atom2) for bond in net.bonds]\n",
    "        for edge, length in zip(edge_index, naive_edge_lengths):\n",
    "            if periodic_edges:\n",
    "                G.add_edge(edge[0], edge[1])\n",
    "            else:\n",
    "                if length < net.box.x // 2:\n",
    "                    G.add_edge(edge[0], edge[1])\n",
    "\n",
    "    if box:\n",
    "        B = nx.Graph()\n",
    "        box_corners = [\n",
    "            (net.box.x1, net.box.y1),\n",
    "            (net.box.x1, net.box.y2),\n",
    "            (net.box.x2, net.box.y1),\n",
    "            (net.box.x2, net.box.y2),\n",
    "        ]\n",
    "        box_edges = [\n",
    "            [box_corners[0], box_corners[1]],\n",
    "            [box_corners[1], box_corners[2]],\n",
    "            [box_corners[2], box_corners[3]],\n",
    "            [box_corners[3], box_corners[0]],\n",
    "        ]\n",
    "\n",
    "        for corner, edge in zip(box_corners, box_edges):\n",
    "            B.add_node(corner)\n",
    "            B.add_edge(edge[0], edge[1])\n",
    "        b_pos = {}\n",
    "        b_pos[box_corners[0]] = (net.box.x1, net.box.y2)\n",
    "        b_pos[box_corners[1]] = (net.box.x2, net.box.y2)\n",
    "        b_pos[box_corners[2]] = (net.box.x2, net.box.y1)\n",
    "        b_pos[box_corners[3]] = (net.box.x1, net.box.y1)\n",
    "\n",
    "        nx.draw_networkx(B, b_pos, with_labels=False, node_color=\"black\", node_size=1)\n",
    "\n",
    "    nx.draw_networkx(\n",
    "        G,\n",
    "        pos,\n",
    "        with_labels=False,\n",
    "        node_color=node_color,\n",
    "        node_size=node_size,\n",
    "        font_size=10,\n",
    "    )\n",
    "    # nx.draw_networkx(G, with_labels=False, node_color=node_color, node_size=node_size, font_size=10)\n",
    "    if standalone:\n",
    "        plt.show()\n"
   ]
  },
  {
   "cell_type": "code",
   "execution_count": null,
   "metadata": {},
   "outputs": [],
   "source": [
    "example = network.Network.from_data_file(\"data/raw/noised_prund/140_4/network_data/2/network.lmp\")\n",
    "draw_network(example, periodic_edges=False)"
   ]
  },
  {
   "cell_type": "code",
   "execution_count": null,
   "metadata": {},
   "outputs": [],
   "source": [
    "from utils import load_data\n",
    "\n",
    "data = load_data('noisy_networks.pt')"
   ]
  }
 ],
 "metadata": {
  "kernelspec": {
   "display_name": "torch_env",
   "language": "python",
   "name": "python3"
  },
  "language_info": {
   "codemirror_mode": {
    "name": "ipython",
    "version": 3
   },
   "file_extension": ".py",
   "mimetype": "text/x-python",
   "name": "python",
   "nbconvert_exporter": "python",
   "pygments_lexer": "ipython3",
   "version": "3.12.3"
  }
 },
 "nbformat": 4,
 "nbformat_minor": 2
}
