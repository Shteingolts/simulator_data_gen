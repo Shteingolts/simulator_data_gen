{
 "cells": [
  {
   "cell_type": "code",
   "execution_count": 1,
   "metadata": {},
   "outputs": [],
   "source": [
    "import os\n",
    "import random\n",
    "from copy import deepcopy\n",
    "\n",
    "import matplotlib.pyplot as plt\n",
    "import networkx as nx\n",
    "import numpy as np\n",
    "import torch\n",
    "import torch_geometric\n",
    "\n",
    "import convert\n",
    "import network\n",
    "from lammps_scripts import LJSimulationStandalone\n",
    "from simulation import (\n",
    "    CompressionSimulation,\n",
    "    LJSimulation,\n",
    "    TemperatureRange,\n",
    "    gen_sim_data,\n",
    "    run_lammps_calc,\n",
    ")\n",
    "from utils import (\n",
    "    add_edges_LJ,\n",
    "    draw_graph,\n",
    "    draw_network,\n",
    "    inject_noise,\n",
    "    recalc_bond,\n",
    "    recalc_bonds,\n",
    "    randomize_LJ\n",
    ")\n"
   ]
  },
  {
   "cell_type": "code",
   "execution_count": 8,
   "metadata": {},
   "outputs": [],
   "source": [
    "path = \"/home/sergey/work/simulator_data_gen/data/binary/test_step_0.002\"\n",
    "chunks = []\n",
    "for chunk_name in os.listdir(path):\n",
    "    chunk = torch.load(os.path.join(path, chunk_name), weights_only=False)\n",
    "    chunks.append(chunk)"
   ]
  },
  {
   "cell_type": "code",
   "execution_count": 9,
   "metadata": {},
   "outputs": [],
   "source": [
    "torch.save(chunks, \"/home/sergey/work/gnn/NN_Simulator/data/test_dePablo_stepsize_0.002.pt\")"
   ]
  },
  {
   "cell_type": "code",
   "execution_count": 3,
   "metadata": {},
   "outputs": [],
   "source": [
    "calc_dir = \"/home/sergey/work/simulator_data_gen/scaling\" # work\n",
    "\n",
    "for i in range(5):\n",
    "    loc_dir = os.path.join(calc_dir, str(i))\n",
    "    os.makedirs(loc_dir)\n",
    "    lj_sim = LJSimulation(\n",
    "        n_atoms=120,\n",
    "        atom_sizes=[16, 14, 12, 10],\n",
    "        n_atom_types=4,\n",
    "        box_dim=[-300, 300, -300, 300, -1, 1],\n",
    "        temperature_range=TemperatureRange(0.0005, 0.0001, 10.0),\n",
    "        n_steps=30_000,\n",
    "    )\n",
    "    lj_sim.write_to_file(loc_dir)\n",
    "    run_lammps_calc(loc_dir, input_file='lammps.in')\n"
   ]
  },
  {
   "cell_type": "code",
   "execution_count": 7,
   "metadata": {},
   "outputs": [],
   "source": [
    "skip = 1\n",
    "data = []\n",
    "for i in sizes:\n",
    "    sim = []\n",
    "    dump_file = os.path.join(calc_dir, str(i), \"dump.lammpstrj\")\n",
    "\n",
    "    with open(dump_file, \"r\", encoding=\"utf8\") as f:\n",
    "            content = f.readlines()\n",
    "\n",
    "    timesteps: list[int] = []\n",
    "    for index, line in enumerate(content):\n",
    "        if \"ITEM: TIMESTEP\" in line:\n",
    "            timesteps.append(index)\n",
    "\n",
    "    for i in range(0, len(timesteps) - 1, skip):\n",
    "        timestep_data = content[timesteps[i] : timesteps[i + 1]]\n",
    "        atoms = [list(map(lambda x: float(x), line.split()[1:3])) for line in timestep_data[9:]]\n",
    "        graph = torch_geometric.data.Data(x=torch.tensor(atoms))\n",
    "        graph.box = network.Box(-30, 30, -30, 30, -0.1, 0.1)\n",
    "        graph = add_edges_LJ(graph, r=2.0)\n",
    "        graph.edge_attr = torch.ones_like(graph.edge_attr)\n",
    "        sim.append(graph)\n",
    "    data.append(sim)\n",
    "    # datasets[edge_radius] = data"
   ]
  },
  {
   "cell_type": "code",
   "execution_count": 12,
   "metadata": {},
   "outputs": [],
   "source": [
    "torch.save(data, \"/home/sergey/work/simulator_data_gen/diff_size.pt\")"
   ]
  },
  {
   "cell_type": "code",
   "execution_count": 6,
   "metadata": {},
   "outputs": [],
   "source": [
    "for key, value in datasets.items():\n",
    "    torch.save(value, f\"/home/sergey/work/simulator_data_gen/LJ_data_r{key}.pt\")"
   ]
  },
  {
   "cell_type": "code",
   "execution_count": null,
   "metadata": {},
   "outputs": [],
   "source": [
    "from convert import parse_dump\n",
    "\n",
    "ord_data = []\n",
    "for i in sizes:\n",
    "    loc_dir = os.path.join(calc_dir, str(i))\n",
    "    ord_network = network.Network.from_data_file(\n",
    "        os.path.join(loc_dir, f\"network{i}.lmp\"),\n",
    "        include_default_masses=1e6,\n",
    "    )\n",
    "    sim = parse_dump(\n",
    "        os.path.join(loc_dir, \"dump.lammpstrj\"),\n",
    "        ord_network,\n",
    "        node_features=\"coord\"\n",
    "    )\n",
    "\n",
    "    ord_data.append(sim)\n",
    "\n",
    "ord_data"
   ]
  },
  {
   "cell_type": "code",
   "execution_count": 56,
   "metadata": {},
   "outputs": [],
   "source": [
    "torch.save(data, \"/home/sergey/work/gnn/NN_Simulator/LJ_data.pt\")"
   ]
  },
  {
   "cell_type": "code",
   "execution_count": null,
   "metadata": {},
   "outputs": [],
   "source": [
    "def draw_network(\n",
    "    net: network.Network,\n",
    "    edges: bool = True,\n",
    "    periodic_edges: bool = True,\n",
    "    box: bool = False,\n",
    "    node_color: str = \"skyblue\",\n",
    "    standalone: bool = True,\n",
    "    node_size: float = 20,\n",
    "    figure_scale: float = 3,\n",
    "):\n",
    "    if standalone:\n",
    "        plt.figure(figsize=(8, 8))\n",
    "    G = nx.Graph()\n",
    "    # Add nodes\n",
    "    for atom in net.atoms:\n",
    "        G.add_node(atom.atom_id)\n",
    "\n",
    "    pos = {atom.atom_id: (float(atom.y), float(atom.x)) for atom in net.atoms}\n",
    "\n",
    "    # Add edges\n",
    "    if edges:\n",
    "        edge_index = [(bond.atom1.atom_id, bond.atom2.atom_id) for bond in net.bonds]\n",
    "        naive_edge_lengths = [bond.atom1.dist(bond.atom2) for bond in net.bonds]\n",
    "        for edge, length in zip(edge_index, naive_edge_lengths):\n",
    "            if periodic_edges:\n",
    "                G.add_edge(edge[0], edge[1])\n",
    "            else:\n",
    "                if length < net.box.x // 2:\n",
    "                    G.add_edge(edge[0], edge[1])\n",
    "\n",
    "    if box:\n",
    "        B = nx.Graph()\n",
    "        box_corners = [\n",
    "            (net.box.x1, net.box.y1),\n",
    "            (net.box.x1, net.box.y2),\n",
    "            (net.box.x2, net.box.y1),\n",
    "            (net.box.x2, net.box.y2),\n",
    "        ]\n",
    "        box_edges = [\n",
    "            [box_corners[0], box_corners[1]],\n",
    "            [box_corners[1], box_corners[2]],\n",
    "            [box_corners[2], box_corners[3]],\n",
    "            [box_corners[3], box_corners[0]],\n",
    "        ]\n",
    "\n",
    "        for corner, edge in zip(box_corners, box_edges):\n",
    "            B.add_node(corner)\n",
    "            B.add_edge(edge[0], edge[1])\n",
    "        b_pos = {}\n",
    "        b_pos[box_corners[0]] = (net.box.x1, net.box.y2)\n",
    "        b_pos[box_corners[1]] = (net.box.x2, net.box.y2)\n",
    "        b_pos[box_corners[2]] = (net.box.x2, net.box.y1)\n",
    "        b_pos[box_corners[3]] = (net.box.x1, net.box.y1)\n",
    "\n",
    "        nx.draw_networkx(B, b_pos, with_labels=False, node_color=\"black\", node_size=1)\n",
    "\n",
    "    nx.draw_networkx(\n",
    "        G,\n",
    "        pos,\n",
    "        with_labels=False,\n",
    "        node_color=node_color,\n",
    "        node_size=node_size,\n",
    "        font_size=10,\n",
    "    )\n",
    "    # nx.draw_networkx(G, with_labels=False, node_color=node_color, node_size=node_size, font_size=10)\n",
    "    if standalone:\n",
    "        plt.show()\n"
   ]
  },
  {
   "cell_type": "code",
   "execution_count": null,
   "metadata": {},
   "outputs": [],
   "source": [
    "example = network.Network.from_data_file(\"data/raw/noised_prund/140_4/network_data/2/network.lmp\")\n",
    "draw_network(example, periodic_edges=False)"
   ]
  },
  {
   "cell_type": "code",
   "execution_count": null,
   "metadata": {},
   "outputs": [],
   "source": [
    "from utils import load_data\n",
    "\n",
    "data = load_data('noisy_networks.pt')"
   ]
  }
 ],
 "metadata": {
  "kernelspec": {
   "display_name": "torch_env",
   "language": "python",
   "name": "python3"
  },
  "language_info": {
   "codemirror_mode": {
    "name": "ipython",
    "version": 3
   },
   "file_extension": ".py",
   "mimetype": "text/x-python",
   "name": "python",
   "nbconvert_exporter": "python",
   "pygments_lexer": "ipython3",
   "version": "3.12.3"
  }
 },
 "nbformat": 4,
 "nbformat_minor": 2
}
