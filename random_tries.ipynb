{
 "cells": [
  {
   "cell_type": "code",
   "execution_count": null,
   "metadata": {},
   "outputs": [],
   "source": [
    "import os\n",
    "\n",
    "import numpy as np\n",
    "\n",
    "from simulation import (\n",
    "    CompressionSimulation,\n",
    "    LJSimulation,\n",
    "    TemperatureRange,\n",
    "    gen_sim_data,\n",
    ")\n",
    "\n",
    "calc_dir = \"/home/sergey/python/simulator_data_gen/network_rand\" # work"
   ]
  },
  {
   "cell_type": "code",
   "execution_count": null,
   "metadata": {},
   "outputs": [],
   "source": [
    "n_atoms = np.linspace(140, 240, 6, dtype=int)\n",
    "print(f\"N atoms:    {n_atoms}\")\n",
    "atom_types = np.linspace(3, 4, 2, dtype=int)\n",
    "print(f\"Atom types: {atom_types}\")\n",
    "atom_sizes = np.linspace(1.2, 1.8, 4, dtype=float)\n",
    "print(f\"Atom sizes: {atom_sizes}\")\n",
    "box_dim = [-7.0, 7.0, -7.0, 7.0, -0.1, 0.1]\n",
    "print(f\"Box size:   {box_dim}\")\n",
    "temperature_range = TemperatureRange(T_start=0.005, T_end=0.001, bias=10.0)\n",
    "print(f\"Temp range: {temperature_range}\")\n",
    "strains = [0.04, 0.06, 0.08]\n",
    "n_steps = 30000\n",
    "print(f\"N steps:    {n_steps}\")\n",
    "batch_size = 7  # number of random networks with the same configuration\n",
    "total_networks = len(n_atoms) * len(atom_types) * len(strains) * batch_size\n",
    "print(f\"N networks: {total_networks}\")"
   ]
  },
  {
   "cell_type": "code",
   "execution_count": null,
   "metadata": {},
   "outputs": [],
   "source": [
    "for n in n_atoms:\n",
    "    for n_types in atom_types:\n",
    "        for strain in strains:\n",
    "            ljsim = LJSimulation(\n",
    "                n_atoms=n,\n",
    "                n_atom_types=n_types,\n",
    "                atom_sizes=atom_sizes[0:n_types],\n",
    "                box_dim=box_dim,\n",
    "                temperature_range=temperature_range,\n",
    "                n_steps=n_steps,\n",
    "            )\n",
    "            comp_sim = CompressionSimulation(\n",
    "                network_filename=\"network.lmp\",  # do not change!\n",
    "                strain=strain,  # % of box X dimension\n",
    "                strain_rate=1e-5,  # speed of compression\n",
    "                temperature_range=TemperatureRange(1e-7, 1e-7, 10.0),\n",
    "                dump_frequency=None,  # `None` if you want 2000 steps or put a value to dump every N steps\n",
    "            )\n",
    "            custom_dir = os.path.join(calc_dir, f\"{n}_{n_types}_{strain}\")\n",
    "            os.makedirs(custom_dir)\n",
    "            gen_sim_data(\n",
    "                custom_dir=custom_dir,\n",
    "                lj_sim=ljsim,\n",
    "                comp_sim=comp_sim,\n",
    "                n_networks=batch_size,\n",
    "            )"
   ]
  }
 ],
 "metadata": {
  "kernelspec": {
   "display_name": "gnn",
   "language": "python",
   "name": "python3"
  },
  "language_info": {
   "codemirror_mode": {
    "name": "ipython",
    "version": 3
   },
   "file_extension": ".py",
   "mimetype": "text/x-python",
   "name": "python",
   "nbconvert_exporter": "python",
   "pygments_lexer": "ipython3",
   "version": "3.11.5"
  }
 },
 "nbformat": 4,
 "nbformat_minor": 2
}
