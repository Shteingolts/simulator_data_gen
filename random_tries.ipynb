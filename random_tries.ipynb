{
 "cells": [
  {
   "cell_type": "code",
   "execution_count": 1,
   "metadata": {},
   "outputs": [],
   "source": [
    "import os\n",
    "import numpy as np\n",
    "import network\n",
    "import convert\n",
    "from simulation import (\n",
    "    CompressionSimulation,\n",
    "    LJSimulation,\n",
    "    TemperatureRange,\n",
    "    gen_sim_data,\n",
    ")\n",
    "\n",
    "calc_dir = \"/home/sergey/python/simulator_data_gen/test_box\" # work"
   ]
  },
  {
   "cell_type": "code",
   "execution_count": 3,
   "metadata": {},
   "outputs": [],
   "source": [
    "comp_sim = CompressionSimulation(\n",
    "    strain_direction='x',\n",
    "    box_size=15.66,\n",
    "    network_filename=\"network.lmp\",  # do not change!\n",
    "    strain=0.10,  # % of box X dimension\n",
    "    strain_rate=1e-5,  # speed of compression\n",
    "    temperature_range=TemperatureRange(1e-7, 1e-7, 10.0),\n",
    ")\n",
    "comp_sim.write_to_file('aux_compress')"
   ]
  },
  {
   "cell_type": "code",
   "execution_count": null,
   "metadata": {},
   "outputs": [],
   "source": [
    "n_atoms = np.linspace(140, 240, 6, dtype=int)\n",
    "print(f\"N atoms:    {n_atoms}\")\n",
    "atom_types = np.linspace(3, 4, 2, dtype=int)\n",
    "print(f\"Atom types: {atom_types}\")\n",
    "atom_sizes = np.linspace(1.2, 1.8, 4, dtype=float)\n",
    "print(f\"Atom sizes: {atom_sizes}\")\n",
    "box_dim = [-7.0, 7.0, -7.0, 7.0, -0.1, 0.1]\n",
    "print(f\"Box size:   {box_dim}\")\n",
    "temperature_range = TemperatureRange(T_start=0.005, T_end=0.001, bias=10.0)\n",
    "print(f\"Temp range: {temperature_range}\")\n",
    "n_steps = 30000\n",
    "print(f\"N steps:    {n_steps}\")\n",
    "batch_size = 5  # number of random networks with the same configuration\n",
    "total_networks = len(n_atoms) * len(atom_types) * batch_size\n",
    "print(f\"N networks: {total_networks}\")"
   ]
  }
 ],
 "metadata": {
  "kernelspec": {
   "display_name": "gnn",
   "language": "python",
   "name": "python3"
  },
  "language_info": {
   "codemirror_mode": {
    "name": "ipython",
    "version": 3
   },
   "file_extension": ".py",
   "mimetype": "text/x-python",
   "name": "python",
   "nbconvert_exporter": "python",
   "pygments_lexer": "ipython3",
   "version": "3.12.3"
  }
 },
 "nbformat": 4,
 "nbformat_minor": 2
}
