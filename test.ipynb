{
 "cells": [
  {
   "cell_type": "code",
   "execution_count": 1,
   "metadata": {},
   "outputs": [],
   "source": [
    "import network\n",
    "from utils import calculate_del"
   ]
  },
  {
   "cell_type": "code",
   "execution_count": 4,
   "metadata": {},
   "outputs": [
    {
     "name": "stdout",
     "output_type": "stream",
     "text": [
      "-7.629174\n",
      "7.825211\n",
      "-7.684686\n",
      "7.626871\n"
     ]
    }
   ],
   "source": [
    "n = network.Network.from_data_file(\n",
    "    \"test_box/network_mod.lmp\",\n",
    "    include_angles=True,\n",
    "    include_dihedrals=False)\n",
    "\n",
    "minx, maxx = min([atom.x for atom in n.atoms]), max([atom.x for atom in n.atoms])\n",
    "miny, maxy = min([atom.y for atom in n.atoms]), max([atom.y for atom in n.atoms])\n",
    "\n",
    "print(miny)\n",
    "print(maxy)\n",
    "print(minx)\n",
    "print(maxx)"
   ]
  }
 ],
 "metadata": {
  "kernelspec": {
   "display_name": "torch_env",
   "language": "python",
   "name": "python3"
  },
  "language_info": {
   "codemirror_mode": {
    "name": "ipython",
    "version": 3
   },
   "file_extension": ".py",
   "mimetype": "text/x-python",
   "name": "python",
   "nbconvert_exporter": "python",
   "pygments_lexer": "ipython3",
   "version": "3.12.3"
  }
 },
 "nbformat": 4,
 "nbformat_minor": 2
}
