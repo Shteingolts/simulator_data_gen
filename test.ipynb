{
 "cells": [
  {
   "cell_type": "code",
   "execution_count": 2,
   "metadata": {},
   "outputs": [],
   "source": [
    "from multiprocessing import Pool\n",
    "from os.path import join\n",
    "from os import listdir\n",
    "import network\n",
    "from convert import parse_dump\n",
    "import torch"
   ]
  },
  {
   "cell_type": "code",
   "execution_count": 4,
   "metadata": {},
   "outputs": [],
   "source": [
    "torch.save(data, \"data/binary/4272sims_noised_only_first100.pt\")"
   ]
  },
  {
   "cell_type": "code",
   "execution_count": 10,
   "metadata": {},
   "outputs": [],
   "source": [
    "raw_data_path = \"/home/sergey/work/simulator_data_gen/large_noised_pruned\"\n",
    "binary_data_path = \"/home/sergey/work/simulator_data_gen/data/binary/820_sims_noised_pruned_part1.pt\"\n",
    "paths = []\n",
    "for t in listdir(raw_data_path):\n",
    "    if t != \"data_generation.log\" and int(t.split('_')[0]) < 150:\n",
    "        current_dir = join(raw_data_path, t, \"network_data\")\n",
    "        for d in listdir(current_dir):\n",
    "            local_dir = join(current_dir, d)\n",
    "            paths.append(local_dir)\n",
    "\n",
    "def extract_from_dump(path: str):\n",
    "    print(path, '\\n')\n",
    "    current_network = network.Network.from_data_file(\n",
    "        join(path, \"network.lmp\"),\n",
    "        include_angles=True,\n",
    "        include_dihedrals=False,\n",
    "    )\n",
    "\n",
    "    sim = parse_dump(\n",
    "        join(path, \"dump.lammpstrj\"),\n",
    "        current_network,\n",
    "        node_features='coord',\n",
    "        skip=1,\n",
    "    )\n",
    "    return sim"
   ]
  }
 ],
 "metadata": {
  "kernelspec": {
   "display_name": "torch_env",
   "language": "python",
   "name": "python3"
  },
  "language_info": {
   "codemirror_mode": {
    "name": "ipython",
    "version": 3
   },
   "file_extension": ".py",
   "mimetype": "text/x-python",
   "name": "python",
   "nbconvert_exporter": "python",
   "pygments_lexer": "ipython3",
   "version": "3.12.3"
  }
 },
 "nbformat": 4,
 "nbformat_minor": 2
}
