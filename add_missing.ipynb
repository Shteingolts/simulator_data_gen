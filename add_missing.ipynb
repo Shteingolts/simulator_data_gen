{
 "cells": [
  {
   "cell_type": "code",
   "execution_count": 1,
   "metadata": {},
   "outputs": [],
   "source": [
    "import network\n",
    "import os\n",
    "from copy import deepcopy\n"
   ]
  },
  {
   "cell_type": "code",
   "execution_count": 5,
   "metadata": {},
   "outputs": [
    {
     "data": {
      "text/plain": [
       "'/home/sergey/python/simulator_data_gen/with_dummies.lmp'"
      ]
     },
     "execution_count": 5,
     "metadata": {},
     "output_type": "execute_result"
    }
   ],
   "source": [
    "\n",
    "\n",
    "\n",
    "auxetic_data = \"/home/sergey/work/auxetic_optimizer/auxetic_data\"\n",
    "example = os.path.join(auxetic_data, \"200\", \"0\", \"original_network.lmp\")\n",
    "example_opt = os.path.join(auxetic_data, \"200\", \"0\", \"final_result.lmp\")\n",
    "example = network.Network.from_data_file(example, include_dihedrals=False)\n",
    "example_opt = network.Network.from_data_file(example_opt, include_dihedrals=False)\n",
    "\n",
    "def add_pruned_bonds_back(original_network: network.Network, pruned_network: network.Network):\n",
    "    pruned_bonds = list(set(original_network.bonds) - set(pruned_network.bonds))\n",
    "    for b in pruned_bonds:\n",
    "        b.bond_coefficient = 0.0000\n",
    "\n",
    "    with_dummies = deepcopy(pruned_network)\n",
    "    combined_bonds = with_dummies.bonds + pruned_bonds\n",
    "    with_dummies.bonds = combined_bonds\n",
    "    with_dummies.header.bonds = len(combined_bonds)\n",
    "    with_dummies.header.bond_types = len(combined_bonds)\n",
    "    return with_dummies\n",
    "\n",
    "with_dummies = add_pruned_bonds_back(example, example_opt)\n",
    "with_dummies.write_to_file(\"with_dummies.lmp\")"
   ]
  },
  {
   "cell_type": "code",
   "execution_count": 7,
   "metadata": {},
   "outputs": [
    {
     "data": {
      "text/plain": [
       "'/home/sergey'"
      ]
     },
     "execution_count": 7,
     "metadata": {},
     "output_type": "execute_result"
    }
   ],
   "source": [
    "os.path.split(\"/home/sergey/work\")[0]"
   ]
  }
 ],
 "metadata": {
  "kernelspec": {
   "display_name": "torch_env",
   "language": "python",
   "name": "python3"
  },
  "language_info": {
   "codemirror_mode": {
    "name": "ipython",
    "version": 3
   },
   "file_extension": ".py",
   "mimetype": "text/x-python",
   "name": "python",
   "nbconvert_exporter": "python",
   "pygments_lexer": "ipython3",
   "version": "3.12.3"
  }
 },
 "nbformat": 4,
 "nbformat_minor": 2
}
